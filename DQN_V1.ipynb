{
  "nbformat": 4,
  "nbformat_minor": 0,
  "metadata": {
    "colab": {
      "provenance": [],
      "authorship_tag": "ABX9TyNZFIpjaU4Qgnz/AeQt8b8Q",
      "include_colab_link": true
    },
    "kernelspec": {
      "name": "python3",
      "display_name": "Python 3"
    },
    "language_info": {
      "name": "python"
    }
  },
  "cells": [
    {
      "cell_type": "markdown",
      "metadata": {
        "id": "view-in-github",
        "colab_type": "text"
      },
      "source": [
        "<a href=\"https://colab.research.google.com/github/Mohammadhosseinkarimi/DQN_V1/blob/main/DQN_V1.ipynb\" target=\"_parent\"><img src=\"https://colab.research.google.com/assets/colab-badge.svg\" alt=\"Open In Colab\"/></a>"
      ]
    },
    {
      "cell_type": "code",
      "execution_count": 3,
      "metadata": {
        "colab": {
          "base_uri": "https://localhost:8080/"
        },
        "id": "whGtuiaGI5D-",
        "outputId": "e81cf60c-4a6d-432b-ef7e-2d9fe9597b49"
      },
      "outputs": [
        {
          "output_type": "stream",
          "name": "stdout",
          "text": [
            "Collecting pettingzoo\n",
            "  Downloading pettingzoo-1.25.0-py3-none-any.whl.metadata (8.9 kB)\n",
            "Requirement already satisfied: numpy>=1.21.0 in /usr/local/lib/python3.11/dist-packages (from pettingzoo) (2.0.2)\n",
            "Requirement already satisfied: gymnasium>=1.0.0 in /usr/local/lib/python3.11/dist-packages (from pettingzoo) (1.1.1)\n",
            "Requirement already satisfied: cloudpickle>=1.2.0 in /usr/local/lib/python3.11/dist-packages (from gymnasium>=1.0.0->pettingzoo) (3.1.1)\n",
            "Requirement already satisfied: typing-extensions>=4.3.0 in /usr/local/lib/python3.11/dist-packages (from gymnasium>=1.0.0->pettingzoo) (4.13.2)\n",
            "Requirement already satisfied: farama-notifications>=0.0.1 in /usr/local/lib/python3.11/dist-packages (from gymnasium>=1.0.0->pettingzoo) (0.0.4)\n",
            "Downloading pettingzoo-1.25.0-py3-none-any.whl (852 kB)\n",
            "\u001b[2K   \u001b[90m━━━━━━━━━━━━━━━━━━━━━━━━━━━━━━━━━━━━━━━━\u001b[0m \u001b[32m852.5/852.5 kB\u001b[0m \u001b[31m18.7 MB/s\u001b[0m eta \u001b[36m0:00:00\u001b[0m\n",
            "\u001b[?25hInstalling collected packages: pettingzoo\n",
            "Successfully installed pettingzoo-1.25.0\n"
          ]
        }
      ],
      "source": [
        "# first i create my envirement\n",
        "# i use petting zoo to create envirement for task scheduler\n",
        "# so first install petting zoo\n",
        "!pip install pettingzoo"
      ]
    },
    {
      "cell_type": "code",
      "source": [
        "from pettingzoo.utils.env import AECEnv\n",
        "from gymnasium import spaces\n",
        "import numpy as np\n",
        "\n",
        "NUM_MACHINES = 2\n",
        "NUM_RESOURCES = 2  # e.g., CPU, RAM\n",
        "MAX_TASKS = 5  # tasks in queue\n",
        "MAX_RESOURCE = 10\n",
        "\n",
        "class TaskSchedulingEnv(AECEnv):\n",
        "    metadata = {\"render_modes\": [\"human\"], \"name\": \"task_scheduler_v0\"}\n",
        "\n",
        "    def __init__(self):\n",
        "        super().__init__()\n",
        "        self.agents = [f\"agent_{i}\" for i in range(NUM_MACHINES)]\n",
        "        self.possible_agents = self.agents[:]\n",
        "\n",
        "        # Observation space: resource state + task queue\n",
        "        self.observation_spaces = {\n",
        "            agent: spaces.Box(low=0, high=MAX_RESOURCE, shape=(NUM_RESOURCES + MAX_TASKS * (NUM_RESOURCES + 1),), dtype=np.int32)\n",
        "            for agent in self.agents\n",
        "        }\n",
        "\n",
        "        # Action space: select task index or 0 for \"no action\"\n",
        "        self.action_spaces = {\n",
        "            agent: spaces.Discrete(MAX_TASKS + 1)\n",
        "            for agent in self.agents\n",
        "        }\n",
        "\n",
        "        self.reset()\n",
        "\n",
        "    def reset(self, seed=None, options=None):\n",
        "        self.agent_idx = 0\n",
        "        self.agents = self.possible_agents[:]\n",
        "        self.resources = np.full((NUM_MACHINES, NUM_RESOURCES), MAX_RESOURCE)\n",
        "        self.tasks = self._generate_tasks()\n",
        "        self.task_queue = self.tasks.copy()\n",
        "        self._agent_selector = iter(self.agents)\n",
        "        self.agent_selection = next(self._agent_selector)\n",
        "\n",
        "        self.rewards = {agent: 0 for agent in self.agents}\n",
        "        self.terminations = {agent: False for agent in self.agents}\n",
        "        self.truncations = {agent: False for agent in self.agents}\n",
        "        self.infos = {agent: {} for agent in self.agents}\n",
        "\n",
        "    def observe(self, agent):\n",
        "        i = int(agent.split('_')[1])\n",
        "        flat_resources = self.resources[i].tolist()\n",
        "        flat_tasks = []\n",
        "        for task in self.task_queue:\n",
        "            flat_tasks += task['resources'] + [task['duration']]\n",
        "        while len(flat_tasks) < MAX_TASKS * (NUM_RESOURCES + 1):\n",
        "            flat_tasks += [0] * (NUM_RESOURCES + 1)\n",
        "        return np.array(flat_resources + flat_tasks, dtype=np.int32)\n",
        "\n",
        "    def _generate_tasks(self):\n",
        "        return [\n",
        "            {\n",
        "                \"resources\": list(np.random.randint(1, MAX_RESOURCE // 2, size=NUM_RESOURCES)),\n",
        "                \"duration\": np.random.randint(1, 5)\n",
        "            }\n",
        "            for _ in range(MAX_TASKS)\n",
        "        ]\n",
        "\n",
        "    def step(self, action):\n",
        "        agent = self.agent_selection\n",
        "        i = int(agent.split('_')[1])\n",
        "\n",
        "        reward = 0\n",
        "        if action > 0 and action <= len(self.task_queue):\n",
        "            task = self.task_queue[action - 1]\n",
        "            if all(task[\"resources\"][j] <= self.resources[i][j] for j in range(NUM_RESOURCES)):\n",
        "                self.resources[i] -= task[\"resources\"]\n",
        "                self.task_queue.pop(action - 1)\n",
        "                reward = 1  # reward for successful scheduling\n",
        "\n",
        "        self.rewards[agent] = reward\n",
        "\n",
        "        try:\n",
        "            self.agent_selection = next(self._agent_selector)\n",
        "        except StopIteration:\n",
        "            self._agent_selector = iter(self.agents)\n",
        "            self.agent_selection = next(self._agent_selector)\n",
        "\n",
        "    def render(self):\n",
        "        for i, res in enumerate(self.resources):\n",
        "            print(f\"Machine {i} resources: {res}\")\n",
        "        print(f\"Queue: {self.task_queue}\")\n",
        "\n"
      ],
      "metadata": {
        "colab": {
          "base_uri": "https://localhost:8080/",
          "height": 367
        },
        "id": "7qznzNjOLvQm",
        "outputId": "118ff91d-3387-47f1-a1fd-4433923c3edd"
      },
      "execution_count": 2,
      "outputs": [
        {
          "output_type": "error",
          "ename": "ModuleNotFoundError",
          "evalue": "No module named 'pettingzoo'",
          "traceback": [
            "\u001b[0;31m---------------------------------------------------------------------------\u001b[0m",
            "\u001b[0;31mModuleNotFoundError\u001b[0m                       Traceback (most recent call last)",
            "\u001b[0;32m<ipython-input-2-1bd8706e5965>\u001b[0m in \u001b[0;36m<cell line: 0>\u001b[0;34m()\u001b[0m\n\u001b[0;32m----> 1\u001b[0;31m \u001b[0;32mfrom\u001b[0m \u001b[0mpettingzoo\u001b[0m\u001b[0;34m.\u001b[0m\u001b[0mutils\u001b[0m\u001b[0;34m.\u001b[0m\u001b[0menv\u001b[0m \u001b[0;32mimport\u001b[0m \u001b[0mAECEnv\u001b[0m\u001b[0;34m\u001b[0m\u001b[0;34m\u001b[0m\u001b[0m\n\u001b[0m\u001b[1;32m      2\u001b[0m \u001b[0;32mfrom\u001b[0m \u001b[0mgymnasium\u001b[0m \u001b[0;32mimport\u001b[0m \u001b[0mspaces\u001b[0m\u001b[0;34m\u001b[0m\u001b[0;34m\u001b[0m\u001b[0m\n\u001b[1;32m      3\u001b[0m \u001b[0;32mimport\u001b[0m \u001b[0mnumpy\u001b[0m \u001b[0;32mas\u001b[0m \u001b[0mnp\u001b[0m\u001b[0;34m\u001b[0m\u001b[0;34m\u001b[0m\u001b[0m\n\u001b[1;32m      4\u001b[0m \u001b[0;34m\u001b[0m\u001b[0m\n\u001b[1;32m      5\u001b[0m \u001b[0mNUM_MACHINES\u001b[0m \u001b[0;34m=\u001b[0m \u001b[0;36m2\u001b[0m\u001b[0;34m\u001b[0m\u001b[0;34m\u001b[0m\u001b[0m\n",
            "\u001b[0;31mModuleNotFoundError\u001b[0m: No module named 'pettingzoo'",
            "",
            "\u001b[0;31m---------------------------------------------------------------------------\u001b[0;32m\nNOTE: If your import is failing due to a missing package, you can\nmanually install dependencies using either !pip or !apt.\n\nTo view examples of installing some common dependencies, click the\n\"Open Examples\" button below.\n\u001b[0;31m---------------------------------------------------------------------------\u001b[0m\n"
          ],
          "errorDetails": {
            "actions": [
              {
                "action": "open_url",
                "actionText": "Open Examples",
                "url": "/notebooks/snippets/importing_libraries.ipynb"
              }
            ]
          }
        }
      ]
    }
  ]
}